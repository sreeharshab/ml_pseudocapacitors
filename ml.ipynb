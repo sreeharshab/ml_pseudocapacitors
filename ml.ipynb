{
 "cells": [
  {
   "cell_type": "code",
   "execution_count": 2,
   "metadata": {},
   "outputs": [],
   "source": [
    "from tpot import TPOTRegressor\n",
    "from sklearn.linear_model import Lasso\n",
    "import numpy as np\n",
    "import pandas as pd\n",
    "from sklearn.preprocessing import StandardScaler\n",
    "from sklearn.decomposition import PCA\n",
    "from matplotlib import pyplot as plt\n",
    "from matplotlib import colors as mcolors\n",
    "from sklearn.feature_selection import SelectKBest, f_regression\n",
    "from sklearn.feature_selection import mutual_info_regression\n",
    "import seaborn as sns"
   ]
  },
  {
   "cell_type": "code",
   "execution_count": null,
   "metadata": {},
   "outputs": [],
   "source": [
    "# Preprocessing features\n",
    "\n",
    "X_og = pd.read_pickle(\"cached_df.pkl\")\n",
    "materials = X_og[\"material\"].tolist()\n",
    "excluded_materials = ['MoS2']\n",
    "X_og = X_og[[material not in excluded_materials for material in materials]]\n",
    "X_og = X_og.reset_index(drop=True)\n",
    "X_og.to_excel(\"data.xlsx\")\n",
    "X_og = X_og.drop(columns=[\"material\", \"formula\", \"structure\", \"composition\"])\n",
    "X_og = X_og.loc[:, (X_og!=0).any(axis=0)]\n",
    "X_og = X_og.loc[:, X_og.nunique() > 10]\n",
    "pd.set_option(\"display.max_columns\", 400)\n",
    "print(X_og.shape)"
   ]
  },
  {
   "cell_type": "code",
   "execution_count": null,
   "metadata": {},
   "outputs": [],
   "source": [
    "# Pearson Correlation\n",
    "\n",
    "corr = X_og.corr(method=\"pearson\").fillna(0)\n",
    "plt.figure(figsize=(30, 30))\n",
    "sns.heatmap(corr, annot=False, cmap='coolwarm', fmt=\".2f\", linewidths=0.5, square=True)\n",
    "plt.savefig(\"corr_plot.png\", dpi=300)\n",
    "plt.show()\n",
    "\n",
    "corr = corr.stack().reset_index()\n",
    "corr.columns = ['Feature1', 'Feature2', 'Correlation']\n",
    "corr = corr[corr['Feature1'] < corr['Feature2']]\n",
    "high_corr_pairs = corr[abs(corr['Correlation']) > 0.8]\n",
    "high_corr_pairs = high_corr_pairs.sort_values(by='Correlation', ascending=False)\n",
    "high_corr_pairs = high_corr_pairs.reset_index(drop=True)\n",
    "feature1 = high_corr_pairs['Feature1'].values\n",
    "feature2 = high_corr_pairs['Feature2'].values\n",
    "from collections import Counter\n",
    "counts = dict(Counter(feature1))\n",
    "counts = dict(sorted(counts.items(), key=lambda item: -item[1]))\n",
    "print(counts)\n",
    "counts = dict(Counter(feature2))\n",
    "counts = dict(sorted(counts.items(), key=lambda item: -item[1]))\n",
    "print(counts)"
   ]
  },
  {
   "cell_type": "code",
   "execution_count": null,
   "metadata": {},
   "outputs": [],
   "source": [
    "# Dropping Highly Correlated Features\n",
    "\n",
    "X_og = X_og.drop(columns=np.unique(feature2))\n",
    "print(X_og.shape)\n",
    "corr = X_og.corr(method=\"pearson\").fillna(0)\n",
    "plt.figure(figsize=(20, 20))\n",
    "sns.heatmap(corr, annot=True, cmap='coolwarm', fmt=\".2f\", linewidths=0.5, square=True)\n",
    "plt.savefig(\"corr_plot.png\", dpi=300)\n",
    "plt.show()"
   ]
  },
  {
   "cell_type": "code",
   "execution_count": null,
   "metadata": {},
   "outputs": [],
   "source": [
    "# Functionalizing features\n",
    "\n",
    "functions = {\n",
    "    \"squared\": lambda x: x**2,\n",
    "    \"cubed\": lambda x: x**3,\n",
    "    \"square_root\": lambda x: abs(x)**(1/2),\n",
    "    \"exp\": lambda x: np.exp(x),\n",
    "    \"log\": lambda x: np.log(1+x)\n",
    "}\n",
    "\n",
    "X_func = X_og.copy()\n",
    "X_copy = X_og.copy()\n",
    "for key,value in functions.items():\n",
    "    tmp_df = pd.DataFrame()\n",
    "    if key == \"exp\":\n",
    "        tmp_df = X_copy.apply(lambda col: np.exp(col) if col.max() <= 6 and col.min() >= -6 else col)\n",
    "        for col in tmp_df.columns:\n",
    "            if (tmp_df[col] == X_copy[col]).any():\n",
    "                tmp_df = tmp_df.drop(columns=[col])\n",
    "    elif key == \"log\":\n",
    "        tmp_df = X_copy.apply(lambda col: np.log(1+col) if (1+col).min() > 0 else col)\n",
    "        for col in tmp_df.columns:\n",
    "            if (tmp_df[col] == X_copy[col]).any():\n",
    "                tmp_df = tmp_df.drop(columns=[col])\n",
    "    else:\n",
    "        tmp_df = X_copy.map(value)\n",
    "    tmp_df.columns = [f\"{key}({col})\" for col in tmp_df.columns]\n",
    "    X_func = pd.concat([X_func, tmp_df], axis=1)\n",
    "print(X_func.shape)"
   ]
  },
  {
   "cell_type": "code",
   "execution_count": null,
   "metadata": {},
   "outputs": [],
   "source": [
    "# Scaling features\n",
    "\n",
    "X_func = X_og\n",
    "X_arr = X_func.values\n",
    "scaler = StandardScaler()\n",
    "X_scaled = scaler.fit_transform(X_arr)\n",
    "print(X_scaled.shape)"
   ]
  },
  {
   "cell_type": "code",
   "execution_count": null,
   "metadata": {},
   "outputs": [],
   "source": [
    "# Reading the Y values from experimental data\n",
    "\n",
    "Y = pd.read_excel(\"exp_data.xlsx\", header=0)\n",
    "Y = Y[[\"System\", \"Rev. Cap (1C)/Th.Cap.\"]]\n",
    "Y = Y.set_index(\"System\")\n",
    "Y = Y.loc[materials, \"Rev. Cap (1C)/Th.Cap.\"]\n",
    "Y = Y[[material not in excluded_materials for material in materials]].values\n",
    "print(Y.shape)\n",
    "\n"
   ]
  },
  {
   "cell_type": "code",
   "execution_count": null,
   "metadata": {},
   "outputs": [],
   "source": [
    "# PCA\n",
    "\n",
    "n_components = min(X_scaled.shape[0], X_scaled.shape[1])\n",
    "pca = PCA(n_components=n_components)\n",
    "pca.fit(X_scaled)\n",
    "loadings = np.abs(pca.components_.T)\n",
    "explained_variance_ratio = pca.explained_variance_ratio_\n",
    "feature_importance = np.dot(loadings, explained_variance_ratio)\n",
    "print(feature_importance.shape)\n",
    "feature_ranking_indices = np.argsort(-feature_importance)   # Descending order\n",
    "selected_features_PCA = X_func.columns[feature_ranking_indices].values\n",
    "print(selected_features_PCA)\n",
    "\n",
    "cmap = mcolors.LinearSegmentedColormap.from_list(\"red_fade\", [\"red\", \"white\"], N=selected_features_PCA.size)\n",
    "colors = {feature: cmap(i) for i, feature in enumerate(selected_features_PCA)}\n",
    "colors_subset = {key:value for index, (key,value) in enumerate(colors.items()) if index>550}\n",
    "\n",
    "plt.figure(figsize=(20,2))\n",
    "for count, (feature, color) in enumerate(colors.items()):\n",
    "    plt.vlines(x=count, ymin=0, ymax=0.5, color=color, linewidth=5)\n",
    "plt.savefig(\"feature_selection.png\")\n",
    "plt.show()"
   ]
  },
  {
   "cell_type": "code",
   "execution_count": null,
   "metadata": {},
   "outputs": [],
   "source": [
    "# Lasso Regularization\n",
    "\n",
    "lasso = Lasso(alpha=0.00001, max_iter=100000)\n",
    "lasso.fit(X_scaled, Y)\n",
    "coefficients = lasso.coef_\n",
    "selected_indices = np.where(coefficients != 0)[0]\n",
    "selected_features_Lasso = X_func.columns[selected_indices].values\n",
    "sorted_features_Lasso = np.array([label for label in selected_features_PCA if label in selected_features_Lasso])\n",
    "plt.figure(figsize=(20,2))\n",
    "for count,label in enumerate(sorted_features_Lasso):\n",
    "    plt.vlines(x=count, ymin=0, ymax=0.5, color=colors[label], linewidth=5)\n",
    "plt.savefig(\"feature_selection.png\")\n",
    "plt.show()"
   ]
  },
  {
   "cell_type": "code",
   "execution_count": null,
   "metadata": {},
   "outputs": [],
   "source": [
    "# ANOVA\n",
    "\n",
    "select_k_best = SelectKBest(score_func=f_regression, k=100)\n",
    "X_selected = select_k_best.fit_transform(X_func, Y)\n",
    "feature_importance = select_k_best.scores_\n",
    "selected_indices = select_k_best.get_support(indices=True)\n",
    "selected_features_ANOVA = X_func.columns[selected_indices].values\n",
    "feature_importance_dict = {key:value for key,value in zip(selected_features_ANOVA, feature_importance)}\n",
    "feature_importance_dict = dict(sorted(feature_importance_dict.items(), key=lambda item: -item[1])) # Descending order\n",
    "print(feature_importance_dict)\n",
    "plt.figure(figsize=(20,2))\n",
    "for count,label in enumerate(feature_importance_dict.keys()):\n",
    "    plt.vlines(x=count, ymin=0, ymax=0.5, color=colors[label], linewidth=5)\n",
    "plt.savefig(\"feature_selection.png\")\n",
    "plt.show()"
   ]
  },
  {
   "cell_type": "code",
   "execution_count": null,
   "metadata": {},
   "outputs": [],
   "source": [
    "# MIR\n",
    "\n",
    "mi = mutual_info_regression(X_func, Y)\n",
    "mi_df = pd.DataFrame({\n",
    "    'Feature': X_func.columns,\n",
    "    'Mutual Information': mi\n",
    "})\n",
    "mi_df = mi_df.sort_values(by='Mutual Information', ascending=False)\n",
    "selected_features_MIR = mi_df['Feature'].values\n",
    "plt.figure(figsize=(20,2))\n",
    "for count,label in enumerate(selected_features_MIR):\n",
    "    plt.vlines(x=count, ymin=0, ymax=0.5, color=colors[label], linewidth=5)\n",
    "plt.savefig(\"feature_selection.png\")\n",
    "plt.show()"
   ]
  },
  {
   "cell_type": "code",
   "execution_count": null,
   "metadata": {},
   "outputs": [],
   "source": [
    "# Reduction of Features\n",
    "\n",
    "selected_features_overall = np.array([feature for feature in selected_features_PCA[0:50] if (feature in selected_features_ANOVA) and (feature in selected_features_MIR[0:50] and (feature in selected_features_Lasso))])\n",
    "X_reduced = X_func[selected_features_overall[0:20]]\n",
    "print(X_reduced.columns)"
   ]
  },
  {
   "cell_type": "code",
   "execution_count": null,
   "metadata": {},
   "outputs": [],
   "source": [
    "tpot = TPOTRegressor(generations=70, population_size=70, scoring='r2')\n",
    "tpot.fit(X_func,Y)\n"
   ]
  },
  {
   "cell_type": "code",
   "execution_count": 30,
   "metadata": {},
   "outputs": [],
   "source": [
    "tpot.export('best_ml_algo.py')"
   ]
  }
 ],
 "metadata": {
  "kernelspec": {
   "display_name": "base",
   "language": "python",
   "name": "python3"
  },
  "language_info": {
   "codemirror_mode": {
    "name": "ipython",
    "version": 3
   },
   "file_extension": ".py",
   "mimetype": "text/x-python",
   "name": "python",
   "nbconvert_exporter": "python",
   "pygments_lexer": "ipython3",
   "version": "3.11.9"
  }
 },
 "nbformat": 4,
 "nbformat_minor": 2
}
