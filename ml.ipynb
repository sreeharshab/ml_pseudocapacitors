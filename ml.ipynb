{
 "cells": [
  {
   "cell_type": "code",
   "execution_count": null,
   "metadata": {},
   "outputs": [],
   "source": [
    "from tpot import TPOTRegressor\n",
    "from sklearn.linear_model import LassoCV\n",
    "import numpy as np\n",
    "import pandas as pd"
   ]
  },
  {
   "cell_type": "code",
   "execution_count": null,
   "metadata": {},
   "outputs": [],
   "source": [
    "X = pd.read_pickle(\"cached_df.pkl\")\n",
    "print(X)"
   ]
  },
  {
   "cell_type": "code",
   "execution_count": null,
   "metadata": {},
   "outputs": [],
   "source": [
    "X = X.drop(columns=[\"material\", \"formula\", \"structure\", \"composition\"])\n",
    "X = X.loc[:, (X!=0).any(axis=0)]"
   ]
  },
  {
   "cell_type": "code",
   "execution_count": null,
   "metadata": {},
   "outputs": [],
   "source": [
    "# Functionalizing features\n",
    "functions = {\n",
    "    \"squared\": lambda x: x**2,\n",
    "    \"cubed\": lambda x: x**3\n",
    "}\n",
    "\n",
    "X_copy = X.copy()\n",
    "for key,value in functions.items():\n",
    "    tmp_df = pd.DataFrame()\n",
    "    tmp_df = X_copy.applymap(value)\n",
    "    tmp_df.columns = [f\"{key}({col})\" for col in tmp_df.columns]\n",
    "    X = pd.concat([X, tmp_df], axis=1)\n",
    "pd.set_option(\"display.max_columns\", 400)\n",
    "print(X)"
   ]
  },
  {
   "cell_type": "code",
   "execution_count": null,
   "metadata": {},
   "outputs": [],
   "source": [
    "Y_arr = np.array([0.42, 0.94, 0.76, 0.37, 0.25, 0.91, 0.71])\n",
    "X_arr = X.to_numpy()"
   ]
  },
  {
   "cell_type": "code",
   "execution_count": null,
   "metadata": {},
   "outputs": [],
   "source": [
    "# Lasso Regularization\n",
    "lasso = LassoCV(cv=5, alphas=np.logspace(-6,6,100), random_state=10)\n",
    "lasso.fit(X_arr, Y_arr)\n",
    "print(lasso.alpha_)\n",
    "print(lasso.coef_)"
   ]
  },
  {
   "cell_type": "code",
   "execution_count": null,
   "metadata": {},
   "outputs": [],
   "source": [
    "# Pearson Correlation\n",
    "corr = X.corr(method=\"pearson\")\n",
    "print(corr)"
   ]
  },
  {
   "cell_type": "code",
   "execution_count": null,
   "metadata": {},
   "outputs": [],
   "source": [
    "tpot = TPOTRegressor(generations=30, population_size=10, scoring='r2')\n",
    "tpot.fit(X_arr,Y_arr)\n"
   ]
  },
  {
   "cell_type": "code",
   "execution_count": null,
   "metadata": {},
   "outputs": [],
   "source": [
    "tpot.export('best_ml_algo.py')"
   ]
  }
 ],
 "metadata": {
  "kernelspec": {
   "display_name": "ml",
   "language": "python",
   "name": "python3"
  },
  "language_info": {
   "codemirror_mode": {
    "name": "ipython",
    "version": 3
   },
   "file_extension": ".py",
   "mimetype": "text/x-python",
   "name": "python",
   "nbconvert_exporter": "python",
   "pygments_lexer": "ipython3",
   "version": "3.12.4"
  }
 },
 "nbformat": 4,
 "nbformat_minor": 2
}
